{
 "cells": [
  {
   "cell_type": "code",
   "execution_count": 1,
   "metadata": {
    "collapsed": false,
    "scrolled": true
   },
   "outputs": [
    {
     "name": "stdout",
     "output_type": "stream",
     "text": [
      "Populating the interactive namespace from numpy and matplotlib\n"
     ]
    },
    {
     "ename": "IOError",
     "evalue": "File ../datasets/CommvsCrime.csv does not exist",
     "output_type": "error",
     "traceback": [
      "\u001b[1;31m---------------------------------------------------------------------------\u001b[0m",
      "\u001b[1;31mIOError\u001b[0m                                   Traceback (most recent call last)",
      "\u001b[1;32m<ipython-input-1-352e3405689c>\u001b[0m in \u001b[0;36m<module>\u001b[1;34m()\u001b[0m\n\u001b[0;32m      4\u001b[0m \u001b[0mget_ipython\u001b[0m\u001b[1;33m(\u001b[0m\u001b[1;33m)\u001b[0m\u001b[1;33m.\u001b[0m\u001b[0mmagic\u001b[0m\u001b[1;33m(\u001b[0m\u001b[1;34mu'pylab inline'\u001b[0m\u001b[1;33m)\u001b[0m\u001b[1;33m\u001b[0m\u001b[0m\n\u001b[0;32m      5\u001b[0m \u001b[1;33m\u001b[0m\u001b[0m\n\u001b[1;32m----> 6\u001b[1;33m \u001b[0mdf\u001b[0m \u001b[1;33m=\u001b[0m \u001b[0mpd\u001b[0m\u001b[1;33m.\u001b[0m\u001b[0mread_csv\u001b[0m\u001b[1;33m(\u001b[0m\u001b[1;34m'../datasets/CommvsCrime.csv'\u001b[0m\u001b[1;33m)\u001b[0m\u001b[1;33m\u001b[0m\u001b[0m\n\u001b[0m\u001b[0;32m      7\u001b[0m \u001b[1;33m\u001b[0m\u001b[0m\n\u001b[0;32m      8\u001b[0m \u001b[1;31m#remove the ':' from the column names\u001b[0m\u001b[1;33m\u001b[0m\u001b[1;33m\u001b[0m\u001b[0m\n",
      "\u001b[1;32mC:\\Users\\2015\\Anaconda\\lib\\site-packages\\pandas\\io\\parsers.pyc\u001b[0m in \u001b[0;36mparser_f\u001b[1;34m(filepath_or_buffer, sep, dialect, compression, doublequote, escapechar, quotechar, quoting, skipinitialspace, lineterminator, header, index_col, names, prefix, skiprows, skipfooter, skip_footer, na_values, na_fvalues, true_values, false_values, delimiter, converters, dtype, usecols, engine, delim_whitespace, as_recarray, na_filter, compact_ints, use_unsigned, low_memory, buffer_lines, warn_bad_lines, error_bad_lines, keep_default_na, thousands, comment, decimal, parse_dates, keep_date_col, dayfirst, date_parser, memory_map, float_precision, nrows, iterator, chunksize, verbose, encoding, squeeze, mangle_dupe_cols, tupleize_cols, infer_datetime_format, skip_blank_lines)\u001b[0m\n\u001b[0;32m    463\u001b[0m                     skip_blank_lines=skip_blank_lines)\n\u001b[0;32m    464\u001b[0m \u001b[1;33m\u001b[0m\u001b[0m\n\u001b[1;32m--> 465\u001b[1;33m         \u001b[1;32mreturn\u001b[0m \u001b[0m_read\u001b[0m\u001b[1;33m(\u001b[0m\u001b[0mfilepath_or_buffer\u001b[0m\u001b[1;33m,\u001b[0m \u001b[0mkwds\u001b[0m\u001b[1;33m)\u001b[0m\u001b[1;33m\u001b[0m\u001b[0m\n\u001b[0m\u001b[0;32m    466\u001b[0m \u001b[1;33m\u001b[0m\u001b[0m\n\u001b[0;32m    467\u001b[0m     \u001b[0mparser_f\u001b[0m\u001b[1;33m.\u001b[0m\u001b[0m__name__\u001b[0m \u001b[1;33m=\u001b[0m \u001b[0mname\u001b[0m\u001b[1;33m\u001b[0m\u001b[0m\n",
      "\u001b[1;32mC:\\Users\\2015\\Anaconda\\lib\\site-packages\\pandas\\io\\parsers.pyc\u001b[0m in \u001b[0;36m_read\u001b[1;34m(filepath_or_buffer, kwds)\u001b[0m\n\u001b[0;32m    239\u001b[0m \u001b[1;33m\u001b[0m\u001b[0m\n\u001b[0;32m    240\u001b[0m     \u001b[1;31m# Create the parser.\u001b[0m\u001b[1;33m\u001b[0m\u001b[1;33m\u001b[0m\u001b[0m\n\u001b[1;32m--> 241\u001b[1;33m     \u001b[0mparser\u001b[0m \u001b[1;33m=\u001b[0m \u001b[0mTextFileReader\u001b[0m\u001b[1;33m(\u001b[0m\u001b[0mfilepath_or_buffer\u001b[0m\u001b[1;33m,\u001b[0m \u001b[1;33m**\u001b[0m\u001b[0mkwds\u001b[0m\u001b[1;33m)\u001b[0m\u001b[1;33m\u001b[0m\u001b[0m\n\u001b[0m\u001b[0;32m    242\u001b[0m \u001b[1;33m\u001b[0m\u001b[0m\n\u001b[0;32m    243\u001b[0m     \u001b[1;32mif\u001b[0m \u001b[1;33m(\u001b[0m\u001b[0mnrows\u001b[0m \u001b[1;32mis\u001b[0m \u001b[1;32mnot\u001b[0m \u001b[0mNone\u001b[0m\u001b[1;33m)\u001b[0m \u001b[1;32mand\u001b[0m \u001b[1;33m(\u001b[0m\u001b[0mchunksize\u001b[0m \u001b[1;32mis\u001b[0m \u001b[1;32mnot\u001b[0m \u001b[0mNone\u001b[0m\u001b[1;33m)\u001b[0m\u001b[1;33m:\u001b[0m\u001b[1;33m\u001b[0m\u001b[0m\n",
      "\u001b[1;32mC:\\Users\\2015\\Anaconda\\lib\\site-packages\\pandas\\io\\parsers.pyc\u001b[0m in \u001b[0;36m__init__\u001b[1;34m(self, f, engine, **kwds)\u001b[0m\n\u001b[0;32m    555\u001b[0m             \u001b[0mself\u001b[0m\u001b[1;33m.\u001b[0m\u001b[0moptions\u001b[0m\u001b[1;33m[\u001b[0m\u001b[1;34m'has_index_names'\u001b[0m\u001b[1;33m]\u001b[0m \u001b[1;33m=\u001b[0m \u001b[0mkwds\u001b[0m\u001b[1;33m[\u001b[0m\u001b[1;34m'has_index_names'\u001b[0m\u001b[1;33m]\u001b[0m\u001b[1;33m\u001b[0m\u001b[0m\n\u001b[0;32m    556\u001b[0m \u001b[1;33m\u001b[0m\u001b[0m\n\u001b[1;32m--> 557\u001b[1;33m         \u001b[0mself\u001b[0m\u001b[1;33m.\u001b[0m\u001b[0m_make_engine\u001b[0m\u001b[1;33m(\u001b[0m\u001b[0mself\u001b[0m\u001b[1;33m.\u001b[0m\u001b[0mengine\u001b[0m\u001b[1;33m)\u001b[0m\u001b[1;33m\u001b[0m\u001b[0m\n\u001b[0m\u001b[0;32m    558\u001b[0m \u001b[1;33m\u001b[0m\u001b[0m\n\u001b[0;32m    559\u001b[0m     \u001b[1;32mdef\u001b[0m \u001b[0m_get_options_with_defaults\u001b[0m\u001b[1;33m(\u001b[0m\u001b[0mself\u001b[0m\u001b[1;33m,\u001b[0m \u001b[0mengine\u001b[0m\u001b[1;33m)\u001b[0m\u001b[1;33m:\u001b[0m\u001b[1;33m\u001b[0m\u001b[0m\n",
      "\u001b[1;32mC:\\Users\\2015\\Anaconda\\lib\\site-packages\\pandas\\io\\parsers.pyc\u001b[0m in \u001b[0;36m_make_engine\u001b[1;34m(self, engine)\u001b[0m\n\u001b[0;32m    692\u001b[0m     \u001b[1;32mdef\u001b[0m \u001b[0m_make_engine\u001b[0m\u001b[1;33m(\u001b[0m\u001b[0mself\u001b[0m\u001b[1;33m,\u001b[0m \u001b[0mengine\u001b[0m\u001b[1;33m=\u001b[0m\u001b[1;34m'c'\u001b[0m\u001b[1;33m)\u001b[0m\u001b[1;33m:\u001b[0m\u001b[1;33m\u001b[0m\u001b[0m\n\u001b[0;32m    693\u001b[0m         \u001b[1;32mif\u001b[0m \u001b[0mengine\u001b[0m \u001b[1;33m==\u001b[0m \u001b[1;34m'c'\u001b[0m\u001b[1;33m:\u001b[0m\u001b[1;33m\u001b[0m\u001b[0m\n\u001b[1;32m--> 694\u001b[1;33m             \u001b[0mself\u001b[0m\u001b[1;33m.\u001b[0m\u001b[0m_engine\u001b[0m \u001b[1;33m=\u001b[0m \u001b[0mCParserWrapper\u001b[0m\u001b[1;33m(\u001b[0m\u001b[0mself\u001b[0m\u001b[1;33m.\u001b[0m\u001b[0mf\u001b[0m\u001b[1;33m,\u001b[0m \u001b[1;33m**\u001b[0m\u001b[0mself\u001b[0m\u001b[1;33m.\u001b[0m\u001b[0moptions\u001b[0m\u001b[1;33m)\u001b[0m\u001b[1;33m\u001b[0m\u001b[0m\n\u001b[0m\u001b[0;32m    695\u001b[0m         \u001b[1;32melse\u001b[0m\u001b[1;33m:\u001b[0m\u001b[1;33m\u001b[0m\u001b[0m\n\u001b[0;32m    696\u001b[0m             \u001b[1;32mif\u001b[0m \u001b[0mengine\u001b[0m \u001b[1;33m==\u001b[0m \u001b[1;34m'python'\u001b[0m\u001b[1;33m:\u001b[0m\u001b[1;33m\u001b[0m\u001b[0m\n",
      "\u001b[1;32mC:\\Users\\2015\\Anaconda\\lib\\site-packages\\pandas\\io\\parsers.pyc\u001b[0m in \u001b[0;36m__init__\u001b[1;34m(self, src, **kwds)\u001b[0m\n\u001b[0;32m   1059\u001b[0m         \u001b[0mkwds\u001b[0m\u001b[1;33m[\u001b[0m\u001b[1;34m'allow_leading_cols'\u001b[0m\u001b[1;33m]\u001b[0m \u001b[1;33m=\u001b[0m \u001b[0mself\u001b[0m\u001b[1;33m.\u001b[0m\u001b[0mindex_col\u001b[0m \u001b[1;32mis\u001b[0m \u001b[1;32mnot\u001b[0m \u001b[0mFalse\u001b[0m\u001b[1;33m\u001b[0m\u001b[0m\n\u001b[0;32m   1060\u001b[0m \u001b[1;33m\u001b[0m\u001b[0m\n\u001b[1;32m-> 1061\u001b[1;33m         \u001b[0mself\u001b[0m\u001b[1;33m.\u001b[0m\u001b[0m_reader\u001b[0m \u001b[1;33m=\u001b[0m \u001b[0m_parser\u001b[0m\u001b[1;33m.\u001b[0m\u001b[0mTextReader\u001b[0m\u001b[1;33m(\u001b[0m\u001b[0msrc\u001b[0m\u001b[1;33m,\u001b[0m \u001b[1;33m**\u001b[0m\u001b[0mkwds\u001b[0m\u001b[1;33m)\u001b[0m\u001b[1;33m\u001b[0m\u001b[0m\n\u001b[0m\u001b[0;32m   1062\u001b[0m \u001b[1;33m\u001b[0m\u001b[0m\n\u001b[0;32m   1063\u001b[0m         \u001b[1;31m# XXX\u001b[0m\u001b[1;33m\u001b[0m\u001b[1;33m\u001b[0m\u001b[0m\n",
      "\u001b[1;32mpandas\\parser.pyx\u001b[0m in \u001b[0;36mpandas.parser.TextReader.__cinit__ (pandas\\parser.c:3163)\u001b[1;34m()\u001b[0m\n",
      "\u001b[1;32mpandas\\parser.pyx\u001b[0m in \u001b[0;36mpandas.parser.TextReader._setup_parser_source (pandas\\parser.c:5779)\u001b[1;34m()\u001b[0m\n",
      "\u001b[1;31mIOError\u001b[0m: File ../datasets/CommvsCrime.csv does not exist"
     ]
    }
   ],
   "source": [
    "import pandas as pd\n",
    "import numpy as np\n",
    "import sklearn.ensemble as sk\n",
    "%pylab inline\n",
    "\n",
    "df = pd.read_csv('../datasets/CommvsCrime.csv')\n",
    "\n",
    "#remove the ':' from the column names\n",
    "columns = list(df.columns)\n",
    "for i, col in enumerate(columns):\n",
    "    columns[i] = col.replace(':', '') \n",
    "df.columns = columns\n",
    "\n",
    "df = df.replace('?', np.nan)  # replace ? with NaN to get a proper count\n",
    "df.count()"
   ]
  },
  {
   "cell_type": "markdown",
   "metadata": {},
   "source": [
    "Since 90% of the cities have the ViolentCrimesPerPop or nonViolperPop attribute I will use the sum of these attributes for the measurement of the total crime in a community. I will also be only selecting cities that have both of these attributes. I also will drop the country and community code colums since they aren't very important and are missing a lot of information."
   ]
  },
  {
   "cell_type": "code",
   "execution_count": null,
   "metadata": {
    "collapsed": false
   },
   "outputs": [],
   "source": [
    "# get rows where both values are numbers\n",
    "df.dropna(subset=['ViolentCrimesPerPop', 'nonViolPerPop'], inplace=True)\n",
    "df = df.convert_objects(convert_numeric=True)\n",
    "df['TotalCrime'] = df.nonViolPerPop.add(df.ViolentCrimesPerPop, axis=0)\n",
    "\n",
    "# delete any columns that have fewer rows of numbers\n",
    "for col in df.columns:\n",
    "    if df[col].count() < df.nonViolPerPop.count():\n",
    "     df.drop(col, axis=1 ,inplace=True)"
   ]
  },
  {
   "cell_type": "markdown",
   "metadata": {},
   "source": [
    "When testing a hypothesis I learned that I should have a train group to train my model and a test group to evaluate how effective my model is. I also realize I don't really have a hypothesis yet, so it looks like I don't know what I am doing."
   ]
  },
  {
   "cell_type": "markdown",
   "metadata": {},
   "source": [
    "### Hypothesis\n",
    "So I guess my hypothesis is that the percentage of minorities in a community is strongly correlated to the ratio between crime and population."
   ]
  },
  {
   "cell_type": "code",
   "execution_count": null,
   "metadata": {
    "collapsed": false
   },
   "outputs": [],
   "source": [
    "# code from stackoverflow to seperate test and training group\n",
    "msk = np.random.rand(len(df)) < 0.8\n",
    "train_data = df[msk]\n",
    "test_data = df[~msk]"
   ]
  },
  {
   "cell_type": "markdown",
   "metadata": {},
   "source": [
    "Now I've cleaned up my data, I will now start to begin the processing."
   ]
  },
  {
   "cell_type": "code",
   "execution_count": null,
   "metadata": {
    "collapsed": false
   },
   "outputs": [],
   "source": [
    "# now select only the predictors(independent) and the Goals(dependent)\n",
    "predict = train_data.iloc[:,5:104]\n",
    "totalCrime = train_data.TotalCrime\n",
    "\n",
    "# run random Forest\n",
    "rfc = sk.RandomForestClassifier(n_estimators= 1, oob_score=True) # n_estimators originally set at 50\n",
    "model = rfc.fit(predict, totalCrime)\n",
    "\n",
    "print rfc.oob_score_\n",
    "\n",
    "\n",
    "\n"
   ]
  },
  {
   "cell_type": "markdown",
   "metadata": {},
   "source": [
    "### My Mistakes\n",
    "So the out of bag score was 0, and for the longest time I couldn't understand why. It wasn't until I read exactly what the out of bag score was and reviewed Random Forest Classification did I come to understand why my score was 0.0 . The reason is there is no classification in the data. I need to use another form of analysis (like multivariable linear regression) or classify the data by hand, and I've decided to do the latter."
   ]
  },
  {
   "cell_type": "markdown",
   "metadata": {},
   "source": [
    "### Research\n",
    "What I've realized I am interested in is not just the pure crime rate but determining what makes a city have a bad crime rate. So my first order of business is to determine what a bad crime rate is. In the United States there is no formal classification of cities based on their crime rate, this means I will have to create my own definition. The ghetto is one of the worst places to live in the United States due to the fact these areas have high crime rates. Most U.S citizens would agree that a cities crime rate is too high if it is similiar to that of a ghetto. So if I find the average crime rate of ghettos than I can use that information as the basis for my classification.\n",
    "\n",
    "#### Defining Ghetto\n",
    "Turns out the United States does not have any official measurements to determine what constitutes a ghetto, in fact the U.S doesn't even give an official definition of what a ghetto is. Luckily there is a classification officially defined by the U.S Census Bureau called **Concentrated Poverty** that does a good job encapsulating what the ghetto is. The definition given by the bureau is an area with 40 percent of the tract population living below the federal poverty threshold [1]. While it is argued that the 40 percent cutoff is arbitrary, scholars recognize that the cutoff did correspond closely with neighborhoods that city officials and Local Census Bureau Officials considered ghettos [2].\n",
    "\n",
    "So we will now classify each community based on how its crime rate relates to the crime rate of the average area that has concentrated poverty (effectively making it a ghetto).\n",
    "\n",
    "### Getting the data\n",
    "Getting U.S census data was not fun, and was probably a lot more work than it was worth. The data on poverty in the U.S is very granular and goes down all the way to U.S census tracts but the best data I could find for crime in the same time frame is down to the city level for cities with populations above 25,000. In hindsight I probably could've used the crime data from UCI that we are analyzing now but oh well. So I got the poverty levels for the large cities but to make up for the change in size (from U.S census tract to U.S city) I've changed the sample size by selecting areas with poverty levels above 20%. Areas with poverty levels above 20% are still above the national average and are just as concerning since cities are much larger than tracts. \n",
    "\n",
    "After messing around in Excel I was able to clean up the data and get the poverty rate and crime rate (both violent and nonviolent) of 1172 cities across all 50 states. So lets take a look at the csv I made.\n",
    "\n",
    "\n",
    "\n"
   ]
  },
  {
   "cell_type": "code",
   "execution_count": null,
   "metadata": {
    "collapsed": false
   },
   "outputs": [],
   "source": [
    "censusdf = pd.read_csv('../datasets/CityCrimePoverty.csv')\n",
    "censusdf\n"
   ]
  },
  {
   "cell_type": "code",
   "execution_count": null,
   "metadata": {
    "collapsed": false
   },
   "outputs": [],
   "source": [
    "# The data still has cities with poverty levels below 20%, so I'll filter them out.\n",
    "\n",
    "# The copy() at the end is to prevent the SettingWithCopy warning\n",
    "censusdf = censusdf[(censusdf['Poverty-Individuals'] > 20) | (censusdf['Poverty-Families'] > 20)].copy()\n",
    "censusdf['totalCrime'] = censusdf.Violent.add(censusdf.Nonviolent)\n",
    "censusdf.describe()\n"
   ]
  },
  {
   "cell_type": "code",
   "execution_count": null,
   "metadata": {
    "collapsed": false
   },
   "outputs": [],
   "source": [
    "# The average total crime for \"ghettos\" is 5950 cases per 100,000 people\n",
    "# Now we will classify which communities in our original dataset have crime rates \n",
    "# higher than half of the poverty cities.\n",
    "dangerous = totalCrime > censusdf.totalCrime.quantile(.5)\n",
    "# convert Booleans to integers\n",
    "dangerous = dangerous.astype(int)\n",
    "\n",
    "# Now lets give it another go\n",
    "# run random Forest\n",
    "rfc = sk.RandomForestClassifier(n_estimators= 500, oob_score=True)\n",
    "model = rfc.fit(predict, dangerous)\n",
    "\n",
    "print rfc.oob_score_"
   ]
  },
  {
   "cell_type": "markdown",
   "metadata": {},
   "source": [
    "Wow much better! The performance has improved a lot too, now I can take a look at the importances of each feature"
   ]
  },
  {
   "cell_type": "code",
   "execution_count": null,
   "metadata": {
    "collapsed": false
   },
   "outputs": [],
   "source": [
    "# Loading the importances into an array that will be turned into a dataframe\n",
    "fi = enumerate(rfc.feature_importances_)\n",
    "cols = predict.columns\n",
    "features = []\n",
    "for i, value in fi:\n",
    "    features.append([value, cols[i]])\n",
    "\n",
    "featureDF = pd.DataFrame(features, None, ['importance', 'feature'])\n",
    "featureDF.sort('importance', ascending=False, inplace=True)\n",
    "\n",
    "# Lets see the top 10 importances\n",
    "featureDF[0:10]\n",
    "\n",
    "\n",
    "\n",
    "    \n"
   ]
  },
  {
   "cell_type": "markdown",
   "metadata": {},
   "source": [
    "#### Features\n",
    "This is interesting it looks like the parenting plays the largest role in determining whether an area is as dangerous as the ghetto 8 out of the top 10 have to do with parenting. This is really insightful, I also thought that having racially segregated areas played the largest role in determining the crime rate but it looks this can be overcome with a strong household.\n",
    "\n",
    "One thing I've also noticed is that I included pure maginitudes in the data which skews things since they aren't adjusted for population differences, this is an area for improvement. \n",
    "\n",
    "Now its time to evaluate the model."
   ]
  },
  {
   "cell_type": "code",
   "execution_count": null,
   "metadata": {
    "collapsed": false
   },
   "outputs": [],
   "source": [
    "# Get the variables from the test data\n",
    "\n",
    "# Independent Variables\n",
    "test_ind = test_data.iloc[:, 5:104]\n",
    "# Dependent Variable\n",
    "test_danger = test_data.TotalCrime > censusdf.totalCrime.quantile(.5)\n",
    "\n",
    "print(\"mean accuracy score for test set = %f\" %(rfc.score(test_ind, test_danger)))"
   ]
  },
  {
   "cell_type": "markdown",
   "metadata": {},
   "source": [
    "## Results\n",
    "Despite all the mistakes made it looks like our model is pretty solid, each time this notebook is run the data is reshuffled and the accuracy of the model is consistantly at 84%."
   ]
  },
  {
   "cell_type": "markdown",
   "metadata": {
    "collapsed": true
   },
   "source": [
    "### Refrences\n",
    "[1] Kneebone, Elizabeth. \"The Growth and Spread of Concentrated Poverty, 2000 to 2008-2012.\" The Brookings Institution. N.p., 31 July 2014. Web. 25 May 2015.\n",
    "\n",
    "[2] Jargowsky, P. and Bane, M. 1991. “Ghetto Poverty in the United States, 1970 to 1980”. in The Urban Underclass edited by Christopher Jencks and Paul E. Peterson. Washington, D.C.: The Brookings Institution.\n"
   ]
  }
 ],
 "metadata": {
  "kernelspec": {
   "display_name": "Python 2",
   "language": "python",
   "name": "python2"
  },
  "language_info": {
   "codemirror_mode": {
    "name": "ipython",
    "version": 2
   },
   "file_extension": ".py",
   "mimetype": "text/x-python",
   "name": "python",
   "nbconvert_exporter": "python",
   "pygments_lexer": "ipython2",
   "version": "2.7.9"
  }
 },
 "nbformat": 4,
 "nbformat_minor": 0
}
